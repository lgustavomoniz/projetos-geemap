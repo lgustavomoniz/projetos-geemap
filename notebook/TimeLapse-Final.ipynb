{
 "cells": [
  {
   "cell_type": "markdown",
   "id": "81fe9f8c",
   "metadata": {},
   "source": [
    "# Importando as bibliotecas"
   ]
  },
  {
   "cell_type": "code",
   "execution_count": null,
   "id": "84619122",
   "metadata": {},
   "outputs": [],
   "source": [
    "import os\n",
    "import ee\n",
    "import geemap"
   ]
  },
  {
   "cell_type": "markdown",
   "id": "7e2b0979",
   "metadata": {},
   "source": [
    "# Definindo a área de interesse"
   ]
  },
  {
   "cell_type": "code",
   "execution_count": null,
   "id": "111c7dcc",
   "metadata": {},
   "outputs": [],
   "source": [
    "# Defina no mapa a sua área de interesse utilizando as ferramentas de desenho (ponto, círculo, retângulo ou polígono)\n",
    "Map = geemap.Map()\n",
    "Map"
   ]
  },
  {
   "cell_type": "code",
   "execution_count": null,
   "id": "e324b001",
   "metadata": {},
   "outputs": [],
   "source": [
    "area_int = Map.user_roi\n",
    "area_int.getInfo()"
   ]
  },
  {
   "cell_type": "markdown",
   "id": "7f166f5a",
   "metadata": {},
   "source": [
    "# Definindo a função"
   ]
  },
  {
   "cell_type": "code",
   "execution_count": null,
   "id": "4f7a3ff1",
   "metadata": {},
   "outputs": [],
   "source": [
    "# Você pode alterar para outras coleções de imagens, do Landsat ou não, alterando o ID dentro do \"ee.ImageCollection()\".\n",
    "# Caso altere para outra coleção de imagens que não o Landsat é necessário verificar qual o nome do metadado de cobertura\n",
    "# da nuvem da coleção. Substituir o nome \"CLOUD_COVER\" dentro do filtro .sort()\n",
    "\n",
    "def melhores_imagens(ano):\n",
    "    ano_inicio = ee.Date.fromYMD(ano, 1, 1)\n",
    "    ano_fim = ano_inicio.advance(1, 'year')\n",
    "    \n",
    "    imagem = ee.ImageCollection(\"LANDSAT/LT05/C01/T1_SR\") \\\n",
    "                .filterDate(ano_inicio, ano_fim) \\\n",
    "                .filterBounds(area_int) \\\n",
    "                .sort(\"CLOUD_COVER\") \\\n",
    "                .first() \\\n",
    "                \n",
    "    return imagem"
   ]
  },
  {
   "cell_type": "code",
   "execution_count": null,
   "id": "dedb8398",
   "metadata": {},
   "outputs": [],
   "source": [
    "# Definir o período que você quer analisar, substituindo o ano incial e o ano final dentro da função ee.List.sequence()\n",
    "\n",
    "anos = ee.List.sequence(1984, 2011)"
   ]
  },
  {
   "cell_type": "code",
   "execution_count": null,
   "id": "be9f5f37",
   "metadata": {},
   "outputs": [],
   "source": [
    "imagens = anos.map(melhores_imagens)"
   ]
  },
  {
   "cell_type": "markdown",
   "id": "2002dfd0",
   "metadata": {},
   "source": [
    "# Pré-visualização"
   ]
  },
  {
   "cell_type": "markdown",
   "id": "48af155f",
   "metadata": {},
   "source": [
    "Essa etapa não é necessária para gerar o gif final, ela serve apenas para verificar algumas coisas: se a função está funcionando corretamente; se as imagens foram armazenadas corretamente na variável \"imagens\" após o looping; se os parâmetros de visualização estão de acordo com o seu objetivo, podendo ser alterados até se obter os parâmetros ideias.\n",
    "\n",
    "Caso queira, pode pular essa etapa e continuar na etapa \"Gerando o gif\""
   ]
  },
  {
   "cell_type": "code",
   "execution_count": null,
   "id": "0f89f346",
   "metadata": {},
   "outputs": [],
   "source": [
    "contar = imagens.size().getInfo()\n",
    "print(contar)"
   ]
  },
  {
   "cell_type": "code",
   "execution_count": null,
   "id": "476c500a",
   "metadata": {},
   "outputs": [],
   "source": [
    "lista_anos = anos.getInfo()\n",
    "lista_anos"
   ]
  },
  {
   "cell_type": "code",
   "execution_count": null,
   "id": "53e09fd2",
   "metadata": {},
   "outputs": [],
   "source": [
    "# Aqui você pode testar os parâmetros de visualização, alterando as bandas, valores mínimos e máximos dos pixels, gamma.\n",
    "\n",
    "p_visual = {\n",
    "    'bands': ['B3', 'B2', 'B1'],\n",
    "    'min': 300, \n",
    "    'max': 1000,\n",
    "    'gamma': 1.0\n",
    "}"
   ]
  },
  {
   "cell_type": "code",
   "execution_count": null,
   "id": "e73b05c6",
   "metadata": {},
   "outputs": [],
   "source": [
    "for index in range(0, contar):\n",
    "    imagem = ee.Image(imagens.get(index))\n",
    "    nome_camada = \"Imagem \" + str(lista_anos[index])\n",
    "    Map.addLayer(imagem, p_visual, nome_camada, False)\n",
    "Map"
   ]
  },
  {
   "cell_type": "markdown",
   "id": "81222daa",
   "metadata": {},
   "source": [
    "# Gerando o gif"
   ]
  },
  {
   "cell_type": "code",
   "execution_count": null,
   "id": "76886206",
   "metadata": {},
   "outputs": [],
   "source": [
    "# Substituir o diretório \"/mnt/d/Downloads/linux/saidas\" pelo diretório onde deseja salvar o arquivo de saída.\n",
    "# Mudar o nome do arquivo \"palmas.gif\" caso queira, lembre apenas que o arquivo deve conter .gif no final do nome.\n",
    "\n",
    "saida_gif = os.path.join(\"/mnt/d/Downloads/linux/saidas\", \"palmas.gif\")"
   ]
  },
  {
   "cell_type": "code",
   "execution_count": null,
   "id": "cb8433e7",
   "metadata": {},
   "outputs": [],
   "source": [
    "# Aqui você também pode alterar os parâmetros, tanto da parte do vídeo: dimensão e frames por segundo, como da visualização:\n",
    "# bandas, valores mínimos e máximos dos pixels, gamma.\n",
    "\n",
    "video_args = {\n",
    "    'dimensions': 768,\n",
    "    'region': area_int,\n",
    "    'framesPerSecond': 2,\n",
    "    'bands': ['B3', 'B2', 'B1'],\n",
    "    'min': 300, \n",
    "    'max': 1000,\n",
    "    'gamma': 1.0\n",
    "}"
   ]
  },
  {
   "cell_type": "code",
   "execution_count": null,
   "id": "d20c684b",
   "metadata": {},
   "outputs": [],
   "source": [
    "geemap.download_ee_video(ee.ImageCollection(imagens), video_args, saida_gif)"
   ]
  },
  {
   "cell_type": "code",
   "execution_count": null,
   "id": "5010ae86",
   "metadata": {},
   "outputs": [],
   "source": [
    "# Visualizando o gif dentro do Jupyter Notebook\n",
    "\n",
    "geemap.show_image(saida_gif)"
   ]
  },
  {
   "cell_type": "code",
   "execution_count": null,
   "id": "886a9809",
   "metadata": {},
   "outputs": [],
   "source": [
    "# Substituir o diretório \"/mnt/d/Downloads/linux/saidas\" pelo diretório onde deseja salvar o novo arquivo de saída.\n",
    "# Mudar o nome do arquivo \"palmas_final.gif\" caso queira.\n",
    "# Alterar, caso queira, parâmetros de localização do texto, sequência dos anos, tamanho da letra, cor da letra, e duração (frames por segundo).\n",
    "\n",
    "texto_gif = os.path.join(\"/mnt/d/Downloads/linux/saidas\", \"palmas_final.gif\")\n",
    "geemap.add_text_to_gif(saida_gif, texto_gif, xy=('3%', '5%'), text_sequence=1984, font_size=30, font_color='#ffffff', duration=200)"
   ]
  },
  {
   "cell_type": "code",
   "execution_count": null,
   "id": "16a27975",
   "metadata": {},
   "outputs": [],
   "source": [
    "geemap.show_image(texto_gif)"
   ]
  },
  {
   "cell_type": "code",
   "execution_count": null,
   "id": "d822eb4d",
   "metadata": {},
   "outputs": [],
   "source": [
    "# Alterar o nome \"Palmas\" para a sua região de interesse analisada.\n",
    "\n",
    "nome = \"Palmas\"\n",
    "geemap.add_text_to_gif(texto_gif, texto_gif, xy=('2%', '88%'), text_sequence=nome, font_size=45, font_color='#ffffff', duration=200)"
   ]
  },
  {
   "cell_type": "code",
   "execution_count": null,
   "id": "c011d180",
   "metadata": {},
   "outputs": [],
   "source": [
    "geemap.show_image(texto_gif)"
   ]
  },
  {
   "cell_type": "code",
   "execution_count": null,
   "id": "ef50d8fd",
   "metadata": {},
   "outputs": [],
   "source": []
  }
 ],
 "metadata": {
  "kernelspec": {
   "display_name": "Python 3 (ipykernel)",
   "language": "python",
   "name": "python3"
  },
  "language_info": {
   "codemirror_mode": {
    "name": "ipython",
    "version": 3
   },
   "file_extension": ".py",
   "mimetype": "text/x-python",
   "name": "python",
   "nbconvert_exporter": "python",
   "pygments_lexer": "ipython3",
   "version": "3.8.2"
  }
 },
 "nbformat": 4,
 "nbformat_minor": 5
}
